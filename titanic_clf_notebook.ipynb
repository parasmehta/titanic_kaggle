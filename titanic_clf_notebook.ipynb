{
 "metadata": {
  "name": "",
  "signature": "sha256:80cc253c45441c96779effcbce86e09c7aece2be24b9da0573476287d680d299"
 },
 "nbformat": 3,
 "nbformat_minor": 0,
 "worksheets": [
  {
   "cells": [
    {
     "cell_type": "markdown",
     "metadata": {},
     "source": [
      "All the imports first"
     ]
    },
    {
     "cell_type": "code",
     "collapsed": false,
     "input": [
      "import pandas as pd\n",
      "from sklearn import tree\n",
      "import matplotlib.pyplot as plt\n",
      "from sklearn.cross_validation import cross_val_score\n",
      "from sklearn.ensemble import ExtraTreesClassifier"
     ],
     "language": "python",
     "metadata": {},
     "outputs": [],
     "prompt_number": 3
    },
    {
     "cell_type": "markdown",
     "metadata": {},
     "source": [
      "Read the training data and change the string attributes to numerical ones."
     ]
    },
    {
     "cell_type": "code",
     "collapsed": false,
     "input": [
      "    data = pd.read_csv('/home/paras/work/Courses/Intro_Data_Science/datasci_course_materials/titanicproj/data/train.csv')\n",
      "    #data.dropna(inplace=True)\n",
      "    data['Embarked'].replace(to_replace='C', value=0, inplace=True)\n",
      "    data['Embarked'].replace(to_replace='Q', value=1, inplace=True)\n",
      "    data['Embarked'].replace(to_replace='S', value=2, inplace=True)\n",
      "    data.fillna(data.mean(), inplace=True)\n",
      "    classlabels = data['Survived']\n",
      "      \n",
      "    color = pd.DataFrame(data['Survived'].values, columns = ['red'])\n",
      "    color['green'] = 0\n",
      "    color['blue'] = 0\n",
      "    color.head()\n",
      "    \n",
      "    data.drop('Survived', axis = 1, inplace=True)    "
     ],
     "language": "python",
     "metadata": {},
     "outputs": [],
     "prompt_number": 4
    },
    {
     "cell_type": "markdown",
     "metadata": {},
     "source": [
      "Explore the data visually to choose the best features."
     ]
    },
    {
     "cell_type": "code",
     "collapsed": false,
     "input": [
      "fig = plt.figure(figsize=(5, 4))\n",
      "ax = fig.add_subplot(1,1,1) # one row, one column, first plot\n",
      "n = 0\n",
      "\n",
      "data['Sex'].replace(to_replace='male', value=0, inplace=True)\n",
      "data['Sex'].replace(to_replace='female', value=1, inplace=True)\n",
      "\n",
      "xattribute = 'Age'\n",
      "yattribute = 'Pclass'\n",
      "ax.scatter(data[xattribute].head(n), data[yattribute].head(n), c=color.head(n), alpha=0.5, s=70)\n",
      "ax.set_xlabel(xattribute)\n",
      "ax.set_ylabel(yattribute)"
     ],
     "language": "python",
     "metadata": {},
     "outputs": [
      {
       "metadata": {},
       "output_type": "pyout",
       "prompt_number": 5,
       "text": [
        "<matplotlib.text.Text at 0x7ff64f7dfc10>"
       ]
      },
      {
       "metadata": {},
       "output_type": "display_data",
       "png": "[encoded data removed]",
       "text": [
        "<matplotlib.figure.Figure at 0x7ff65c8cce90>"
       ]
      }
     ],
     "prompt_number": 5
    },
    {
     "cell_type": "markdown",
     "metadata": {},
     "source": [
      "Age has a normal sort of a distribution so replacement of missing values with mean values may be the most appropriate"
     ]
    },
    {
     "cell_type": "code",
     "collapsed": false,
     "input": [
      "fig1 = plt.figure(figsize=(5, 4))\n",
      "ax1 = fig1.add_subplot(1,1,1)\n",
      "ax1.hist(data[xattribute].values)"
     ],
     "language": "python",
     "metadata": {},
     "outputs": [
      {
       "metadata": {},
       "output_type": "pyout",
       "prompt_number": 6,
       "text": [
        "(array([  54.,   46.,  177.,  346.,  118.,   70.,   45.,   24.,    9.,    2.]),\n",
        " array([  0.42 ,   8.378,  16.336,  24.294,  32.252,  40.21 ,  48.168,\n",
        "         56.126,  64.084,  72.042,  80.   ]),\n",
        " <a list of 10 Patch objects>)"
       ]
      },
      {
       "metadata": {},
       "output_type": "display_data",
       "png": "[encoded data removed]",
       "text": [
        "<matplotlib.figure.Figure at 0x7ff64fc83d90>"
       ]
      }
     ],
     "prompt_number": 6
    },
    {
     "cell_type": "markdown",
     "metadata": {},
     "source": [
      "Chose the passenger class, gender and fare as the features for training the classifier since they achieve the highest mean score through cross validation on an extra tree classifier."
     ]
    },
    {
     "cell_type": "code",
     "collapsed": false,
     "input": [
      "X = data[['Pclass', 'Sex', 'Fare']]\n",
      "Y = classlabels\n",
      "clf = ExtraTreesClassifier(n_estimators=5, max_depth=None, min_samples_split=1, random_state=0)\n",
      "scores = cross_val_score(clf, X, Y)\n",
      "scores.mean()\n"
     ],
     "language": "python",
     "metadata": {},
     "outputs": [
      {
       "metadata": {},
       "output_type": "pyout",
       "prompt_number": 7,
       "text": [
        "0.81593714927048255"
       ]
      }
     ],
     "prompt_number": 7
    },
    {
     "cell_type": "markdown",
     "metadata": {},
     "source": [
      "Train the classifier and predict the output values for the test data."
     ]
    },
    {
     "cell_type": "code",
     "collapsed": false,
     "input": [
      "clf = clf.fit(X, Y)\n",
      "test = pd.read_csv('/home/paras/work/Courses/Intro_Data_Science/datasci_course_materials/titanicproj/data/test.csv')\n",
      "test.fillna(test.mean(), inplace=True)\n",
      "test['Sex'].replace(to_replace='male', value=0, inplace=True)\n",
      "test['Sex'].replace(to_replace='female', value=1, inplace=True)\n",
      "output = clf.predict(test[['Pclass', 'Sex', 'Fare']])"
     ],
     "language": "python",
     "metadata": {},
     "outputs": [],
     "prompt_number": 16
    },
    {
     "cell_type": "markdown",
     "metadata": {},
     "source": [
      "Save the output."
     ]
    },
    {
     "cell_type": "code",
     "collapsed": false,
     "input": [
      "d = {'PassengerId' : test['PassengerId'].values, 'Survived' : output}\n",
      "outputdf = pd.DataFrame(d)\n",
      "outputdf.to_csv('output.csv', columns=['PassengerId', 'Survived'], index=False)"
     ],
     "language": "python",
     "metadata": {},
     "outputs": [],
     "prompt_number": 30
    },
    {
     "cell_type": "code",
     "collapsed": false,
     "input": [
      "from sklearn.externals.six import StringIO\n",
      "import pydot\n",
      "with open('/home/paras/work/Courses/Intro_Data_Science/datasci_course_materials/titanicproj/titanic.dot', 'w') as f:\n",
      "    f = tree.export_graphviz(clf, out_file=f)\n",
      "    ! cd /home/paras/work/Courses/Intro_Data_Science/datasci_course_materials/titanicproj\n",
      "    ! dot -Tpdf titanic.dot -o titanic.pdf"
     ],
     "language": "python",
     "metadata": {},
     "outputs": [
      {
       "output_type": "stream",
       "stream": "stdout",
       "text": [
        "Error: dot: can't open titanic.dot\r\n"
       ]
      }
     ],
     "prompt_number": 69
    },
    {
     "cell_type": "code",
     "collapsed": false,
     "input": [
      "traindata.columns"
     ],
     "language": "python",
     "metadata": {},
     "outputs": [
      {
       "metadata": {},
       "output_type": "pyout",
       "prompt_number": 95,
       "text": [
        "Index([u'PassengerId', u'Pclass', u'Name', u'Sex', u'Age', u'SibSp', u'Parch', u'Ticket', u'Fare', u'Cabin', u'Embarked'], dtype='object')"
       ]
      }
     ],
     "prompt_number": 95
    },
    {
     "cell_type": "markdown",
     "metadata": {},
     "source": [
      "embarked        Port of Embarkation\n",
      "                (C = Cherbourg; Q = Queenstown; S = Southampton)"
     ]
    },
    {
     "cell_type": "markdown",
     "metadata": {},
     "source": [
      "could be useful for me: area = np.pi * (15 * np.random.rand(N))**2 # 0 to 15 point radiuses\n",
      "\n",
      "plt.scatter(x, y, s=area, alpha=0.5)"
     ]
    },
    {
     "cell_type": "code",
     "collapsed": false,
     "input": [
      "X = [[0, 0], [1, 1], [0, 1], [-1, 1]]\n",
      "Y = [0, 1, 1, 0]\n",
      "clf = tree.DecisionTreeClassifier()\n",
      "clf = clf.fit(X, Y)\n",
      "clf.predict([[2., 2.]])"
     ],
     "language": "python",
     "metadata": {},
     "outputs": [
      {
       "metadata": {},
       "output_type": "pyout",
       "prompt_number": 65,
       "text": [
        "array([1])"
       ]
      }
     ],
     "prompt_number": 65
    },
    {
     "cell_type": "code",
     "collapsed": false,
     "input": [
      "with open(\"iris.dot\", 'w') as f:\n",
      "    f = tree.export_graphviz(clf, out_file=f)\n",
      "    ! dot -Tpdf iris.dot -o iris.pdf"
     ],
     "language": "python",
     "metadata": {},
     "outputs": [],
     "prompt_number": 67
    },
    {
     "cell_type": "code",
     "collapsed": false,
     "input": [],
     "language": "python",
     "metadata": {},
     "outputs": []
    }
   ],
   "metadata": {}
  }
 ]
}